{
 "cells": [
  {
   "cell_type": "markdown",
   "metadata": {},
   "source": [
    "It is now possible to start GPU accelerated Docker containers:\n",
    "- [Windows with Docker Desktop](https://docs.docker.com/desktop/gpu/)\n",
    "- [Linux](https://docs.nvidia.com/datacenter/cloud-native/container-toolkit/latest/index.html)\n",
    "\n",
    "\n",
    "Combined with [VS Code](https://code.visualstudio.com/) and the [Remote Container VS Code Extension](https://code.visualstudio.com/docs/remote/remote-overview) you can have gpu accelerated devcontainer:\n",
    "- Python 3 Docker Devcontainer\n",
    "- Added [Jupyter Notebook VS Code Extension](https://marketplace.visualstudio.com/items?itemName=ms-toolsai.jupyter)\n",
    "- Added [Python VS Code Extension](https://marketplace.visualstudio.com/items?itemName=ms-python.python)\n",
    "- Added [Pylance VS Code Extension](https://marketplace.visualstudio.com/items?itemName=ms-python.vscode-pylance)\n",
    "- Installed [torch](https://pytorch.org/get-started/locally/) in the Docker container itself"
   ]
  },
  {
   "cell_type": "code",
   "execution_count": 1,
   "metadata": {},
   "outputs": [
    {
     "name": "stdout",
     "output_type": "stream",
     "text": [
      "True\n",
      "1\n",
      "<torch.cuda.device object at 0x7b3b5cb31ee0>\n",
      "NVIDIA GeForce RTX 3080\n"
     ]
    }
   ],
   "source": [
    "import torch\n",
    "print(torch.cuda.is_available())\n",
    "print(torch.cuda.device_count())\n",
    "print(torch.cuda.device(0))\n",
    "print(torch.cuda.get_device_name(0))"
   ]
  }
 ],
 "metadata": {
  "kernelspec": {
   "display_name": "Python 3",
   "language": "python",
   "name": "python3"
  },
  "language_info": {
   "codemirror_mode": {
    "name": "ipython",
    "version": 3
   },
   "file_extension": ".py",
   "mimetype": "text/x-python",
   "name": "python",
   "nbconvert_exporter": "python",
   "pygments_lexer": "ipython3",
   "version": "3.12.3"
  }
 },
 "nbformat": 4,
 "nbformat_minor": 2
}
